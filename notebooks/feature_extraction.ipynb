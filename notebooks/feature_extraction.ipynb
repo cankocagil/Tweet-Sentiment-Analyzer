{
 "cells": [
  {
   "cell_type": "markdown",
   "metadata": {},
   "source": [
    "# Imports and Read Data"
   ]
  },
  {
   "cell_type": "code",
   "execution_count": 1,
   "metadata": {},
   "outputs": [],
   "source": [
    "from __future__ import (\n",
    "    print_function,\n",
    "    division\n",
    ")\n",
    "\n",
    "import matplotlib.pyplot as plt\n",
    "import stopwordsiso as swiso\n",
    "import seaborn as sns\n",
    "import pandas as pd\n",
    "import numpy as np\n",
    "import cleantext\n",
    "import warnings\n",
    "import random\n",
    "import string\n",
    "import pickle\n",
    "import spacy\n",
    "import json\n",
    "import nltk\n",
    "import time\n",
    "import abc\n",
    "import os \n",
    "import re\n",
    "import sys \n",
    "sys.path.append('./src')\n",
    "\n",
    "from spellchecker import SpellChecker\n",
    "from stop_words import get_stop_words\n",
    "from collections import OrderedDict\n",
    "from nltk.stem import PorterStemmer\n",
    "from collections import Counter\n",
    "from nltk.corpus import stopwords\n",
    "from wordcloud import WordCloud\n",
    "\n",
    "\n",
    "from textblob import (\n",
    "    TextBlob,\n",
    "    Word\n",
    ")\n",
    "\n",
    "from typing import (\n",
    "    Callable,\n",
    "    Iterable,\n",
    "    List,\n",
    "    Union,\n",
    "    Tuple,\n",
    ")\n",
    "\n",
    "from utils import (\n",
    "    Classifier,\n",
    "    Pipeline,\n",
    "    json_print,\n",
    "    timeit,\n",
    "    random_seed,\n",
    "    #save_obj\n",
    ")\n",
    "from supervised import (\n",
    "    KNeighborsClassifier,\n",
    "    MultiNominalNaiveBayes,\n",
    "    BernaulliNaiveBayes\n",
    ")\n",
    "from feature import (\n",
    "    BackwardElimination,\n",
    "    #mutual_information\n",
    ")"
   ]
  },
  {
   "cell_type": "code",
   "execution_count": 3,
   "metadata": {},
   "outputs": [],
   "source": [
    "df = pd.read_csv('../data/cleaned_preprocessed_data.csv')"
   ]
  },
  {
   "cell_type": "markdown",
   "metadata": {},
   "source": [
    "# Post-preprocessing"
   ]
  },
  {
   "cell_type": "code",
   "execution_count": 4,
   "metadata": {},
   "outputs": [
    {
     "name": "stderr",
     "output_type": "stream",
     "text": [
      "/var/folders/2s/tzkz7dx17_94s45s202b6n180000gn/T/ipykernel_48645/2818714884.py:12: FutureWarning: The default value of regex will change from True to False in a future version. In addition, single character regular expressions will *not* be treated as literal strings when regex=True.\n",
      "  df['clean_text'] = df['clean_text'].str.replace(\".\", '')\n"
     ]
    }
   ],
   "source": [
    "cols = [\n",
    "    'id',\n",
    "    'text',\n",
    "    'clean_text',\n",
    "    'user',\n",
    "    'sentiment',\n",
    "]\n",
    "\n",
    "df = df[cols]\n",
    "\n",
    "df['clean_text'] = df['clean_text'].str.replace(\",\", '')\n",
    "df['clean_text'] = df['clean_text'].str.replace(\".\", '')\n",
    "df['clean_text'] = df['clean_text'].str.strip()\n",
    "\n",
    "df.drop(\n",
    "    ['id'],\n",
    "    axis = 1,\n",
    "    inplace = True\n",
    ")\n",
    "\n",
    "\n",
    "df['doc_count'] = df['clean_text'].apply(lambda t: len(\n",
    "    str(t).split()\n",
    "    )\n",
    ")\n",
    "\n",
    "df.drop(\n",
    "    df[df['doc_count'] <= 2].index,\n",
    "    inplace = True\n",
    ")"
   ]
  },
  {
   "cell_type": "code",
   "execution_count": 5,
   "metadata": {},
   "outputs": [
    {
     "data": {
      "text/html": [
       "<div>\n",
       "<style scoped>\n",
       "    .dataframe tbody tr th:only-of-type {\n",
       "        vertical-align: middle;\n",
       "    }\n",
       "\n",
       "    .dataframe tbody tr th {\n",
       "        vertical-align: top;\n",
       "    }\n",
       "\n",
       "    .dataframe thead th {\n",
       "        text-align: right;\n",
       "    }\n",
       "</style>\n",
       "<table border=\"1\" class=\"dataframe\">\n",
       "  <thead>\n",
       "    <tr style=\"text-align: right;\">\n",
       "      <th></th>\n",
       "      <th>text</th>\n",
       "      <th>clean_text</th>\n",
       "      <th>user</th>\n",
       "      <th>sentiment</th>\n",
       "      <th>doc_count</th>\n",
       "    </tr>\n",
       "  </thead>\n",
       "  <tbody>\n",
       "    <tr>\n",
       "      <th>0</th>\n",
       "      <td>@switchfoot http://twitpic.com/2y1zl - Awww, t...</td>\n",
       "      <td>awww bummer shoulda david carr day</td>\n",
       "      <td>_TheSpecialOne_</td>\n",
       "      <td>0</td>\n",
       "      <td>6</td>\n",
       "    </tr>\n",
       "    <tr>\n",
       "      <th>1</th>\n",
       "      <td>is upset that he can't update his Facebook by ...</td>\n",
       "      <td>upset updat facebook text result school blah</td>\n",
       "      <td>scotthamilton</td>\n",
       "      <td>0</td>\n",
       "      <td>7</td>\n",
       "    </tr>\n",
       "    <tr>\n",
       "      <th>2</th>\n",
       "      <td>@Kenichan I dived many times for the ball. Man...</td>\n",
       "      <td>dive time ball manag save rest bound</td>\n",
       "      <td>mattycus</td>\n",
       "      <td>0</td>\n",
       "      <td>7</td>\n",
       "    </tr>\n",
       "    <tr>\n",
       "      <th>3</th>\n",
       "      <td>my whole body feels itchy and like its on fire</td>\n",
       "      <td>bodi feel itchi</td>\n",
       "      <td>ElleCTF</td>\n",
       "      <td>0</td>\n",
       "      <td>3</td>\n",
       "    </tr>\n",
       "    <tr>\n",
       "      <th>7</th>\n",
       "      <td>@LOLTrish hey  long time no see! Yes.. Rains a...</td>\n",
       "      <td>hey time rain bit bit lol fine</td>\n",
       "      <td>coZZ</td>\n",
       "      <td>0</td>\n",
       "      <td>7</td>\n",
       "    </tr>\n",
       "  </tbody>\n",
       "</table>\n",
       "</div>"
      ],
      "text/plain": [
       "                                                text  \\\n",
       "0  @switchfoot http://twitpic.com/2y1zl - Awww, t...   \n",
       "1  is upset that he can't update his Facebook by ...   \n",
       "2  @Kenichan I dived many times for the ball. Man...   \n",
       "3    my whole body feels itchy and like its on fire    \n",
       "7  @LOLTrish hey  long time no see! Yes.. Rains a...   \n",
       "\n",
       "                                     clean_text             user  sentiment  \\\n",
       "0            awww bummer shoulda david carr day  _TheSpecialOne_          0   \n",
       "1  upset updat facebook text result school blah    scotthamilton          0   \n",
       "2          dive time ball manag save rest bound         mattycus          0   \n",
       "3                               bodi feel itchi          ElleCTF          0   \n",
       "7                hey time rain bit bit lol fine             coZZ          0   \n",
       "\n",
       "   doc_count  \n",
       "0          6  \n",
       "1          7  \n",
       "2          7  \n",
       "3          3  \n",
       "7          7  "
      ]
     },
     "execution_count": 5,
     "metadata": {},
     "output_type": "execute_result"
    }
   ],
   "source": [
    "df.head()"
   ]
  },
  {
   "cell_type": "code",
   "execution_count": 6,
   "metadata": {},
   "outputs": [
    {
     "data": {
      "text/plain": [
       "text          0\n",
       "clean_text    0\n",
       "user          0\n",
       "sentiment     0\n",
       "doc_count     0\n",
       "dtype: int64"
      ]
     },
     "execution_count": 6,
     "metadata": {},
     "output_type": "execute_result"
    }
   ],
   "source": [
    "df.isna().sum()"
   ]
  },
  {
   "cell_type": "markdown",
   "metadata": {},
   "source": [
    "# Construction of Corpus"
   ]
  },
  {
   "cell_type": "code",
   "execution_count": 7,
   "metadata": {},
   "outputs": [
    {
     "data": {
      "text/html": [
       "<div>\n",
       "<style scoped>\n",
       "    .dataframe tbody tr th:only-of-type {\n",
       "        vertical-align: middle;\n",
       "    }\n",
       "\n",
       "    .dataframe tbody tr th {\n",
       "        vertical-align: top;\n",
       "    }\n",
       "\n",
       "    .dataframe thead th {\n",
       "        text-align: right;\n",
       "    }\n",
       "</style>\n",
       "<table border=\"1\" class=\"dataframe\">\n",
       "  <thead>\n",
       "    <tr style=\"text-align: right;\">\n",
       "      <th></th>\n",
       "      <th>word</th>\n",
       "      <th>frequency</th>\n",
       "    </tr>\n",
       "  </thead>\n",
       "  <tbody>\n",
       "    <tr>\n",
       "      <th>0</th>\n",
       "      <td>day</td>\n",
       "      <td>94954</td>\n",
       "    </tr>\n",
       "    <tr>\n",
       "      <th>1</th>\n",
       "      <td>love</td>\n",
       "      <td>73157</td>\n",
       "    </tr>\n",
       "    <tr>\n",
       "      <th>2</th>\n",
       "      <td>time</td>\n",
       "      <td>59677</td>\n",
       "    </tr>\n",
       "    <tr>\n",
       "      <th>3</th>\n",
       "      <td>lol</td>\n",
       "      <td>49958</td>\n",
       "    </tr>\n",
       "    <tr>\n",
       "      <th>4</th>\n",
       "      <td>feel</td>\n",
       "      <td>44326</td>\n",
       "    </tr>\n",
       "    <tr>\n",
       "      <th>5</th>\n",
       "      <td>watch</td>\n",
       "      <td>40297</td>\n",
       "    </tr>\n",
       "    <tr>\n",
       "      <th>6</th>\n",
       "      <td>amp</td>\n",
       "      <td>40251</td>\n",
       "    </tr>\n",
       "    <tr>\n",
       "      <th>7</th>\n",
       "      <td>night</td>\n",
       "      <td>40220</td>\n",
       "    </tr>\n",
       "    <tr>\n",
       "      <th>8</th>\n",
       "      <td>hope</td>\n",
       "      <td>34472</td>\n",
       "    </tr>\n",
       "    <tr>\n",
       "      <th>9</th>\n",
       "      <td>tomorrow</td>\n",
       "      <td>30858</td>\n",
       "    </tr>\n",
       "  </tbody>\n",
       "</table>\n",
       "</div>"
      ],
      "text/plain": [
       "       word  frequency\n",
       "0       day      94954\n",
       "1      love      73157\n",
       "2      time      59677\n",
       "3       lol      49958\n",
       "4      feel      44326\n",
       "5     watch      40297\n",
       "6       amp      40251\n",
       "7     night      40220\n",
       "8      hope      34472\n",
       "9  tomorrow      30858"
      ]
     },
     "execution_count": 7,
     "metadata": {},
     "output_type": "execute_result"
    }
   ],
   "source": [
    "df_vocab = df['clean_text'].str.split(expand=True).stack().value_counts().reset_index()\n",
    "df_vocab.columns = [\n",
    "    'word',\n",
    "    'frequency'\n",
    "] \n",
    "df_vocab.head(10)"
   ]
  },
  {
   "cell_type": "code",
   "execution_count": 8,
   "metadata": {},
   "outputs": [
    {
     "data": {
      "text/plain": [
       "337107"
      ]
     },
     "execution_count": 8,
     "metadata": {},
     "output_type": "execute_result"
    }
   ],
   "source": [
    "len(df_vocab)"
   ]
  },
  {
   "cell_type": "code",
   "execution_count": 25,
   "metadata": {},
   "outputs": [
    {
     "name": "stdout",
     "output_type": "stream",
     "text": [
      "[('day', 94954), ('love', 73157), ('time', 59677), ('lol', 49958), ('feel', 44326), ('watch', 40297), ('amp', 40251), ('night', 40220), ('hope', 34472), ('tomorrow', 30858)]\n"
     ]
    }
   ],
   "source": [
    "word_freq = Counter(\n",
    "    df['clean_text'].str.cat(\n",
    "        sep = ' '\n",
    "    ).split()\n",
    ")\n",
    "\n",
    "print(word_freq.most_common(10))"
   ]
  },
  {
   "cell_type": "markdown",
   "metadata": {},
   "source": [
    "# Post-processing with Word Count Data"
   ]
  },
  {
   "cell_type": "code",
   "execution_count": 26,
   "metadata": {},
   "outputs": [],
   "source": [
    "dict_freq = dict(word_freq)\n",
    "freq_threshold = 1000"
   ]
  },
  {
   "cell_type": "code",
   "execution_count": 27,
   "metadata": {},
   "outputs": [],
   "source": [
    "df['clean_freq_removed_text'] = df['clean_text'].apply(\n",
    "    lambda text : \" \".join(\n",
    "            [\n",
    "                word for word in text.split() if dict_freq[word] > freq_threshold\n",
    "        ]\n",
    "    )\n",
    ")"
   ]
  },
  {
   "cell_type": "code",
   "execution_count": 28,
   "metadata": {},
   "outputs": [],
   "source": [
    "df['doc_count_clean_freq_removed_text'] = df['clean_freq_removed_text'].apply(\n",
    "    lambda t: len(\n",
    "        str(t).split()\n",
    "    )\n",
    ")\n",
    "\n",
    "df.drop(\n",
    "    df[df['doc_count_clean_freq_removed_text'] <= 2].index,\n",
    "    inplace = True\n",
    ")"
   ]
  },
  {
   "cell_type": "code",
   "execution_count": 29,
   "metadata": {},
   "outputs": [],
   "source": [
    "df_vocab_greq_removed = df['clean_freq_removed_text'].str.split(expand=True).stack().value_counts().reset_index()\n",
    "df_vocab_greq_removed.columns = [\n",
    "    'word',\n",
    "    'frequency'\n",
    "] "
   ]
  },
  {
   "cell_type": "code",
   "execution_count": 36,
   "metadata": {},
   "outputs": [],
   "source": [
    "class Vocabulary:\n",
    "    def __init__(\n",
    "        self,\n",
    "        vocab_dict,\n",
    "        \n",
    "    ):\n",
    "        super(Vocabulary, self).__init__()\n",
    "\n",
    "        assert 'word' in vocab_dict.keys() and 'frequency' in vocab_dict.keys()\n",
    "\n",
    "        self.vocab_dict = vocab_dict\n",
    "\n",
    "        self.id2word = vocab_dict['word']\n",
    "        self.frequency = vocab_dict['frequency']\n",
    "\n",
    "        self.word2id = {\n",
    "            word: i for i, word in enumerate(self.id2word)\n",
    "        } \n",
    "\n",
    "    def __getitem__(self, idx):\n",
    "\n",
    "        if isinstance(idx, (list, np.ndarray)):\n",
    "            return [self.id2word[i] for i in idx]\n",
    "\n",
    "        return self.id2word[idx]\n",
    "\n",
    "    def __str__(self):\n",
    "        return json_print(self.id2word)\n",
    "\n",
    "    def __repr__(self):\n",
    "        return json_print(self.id2word)\n",
    "\n",
    "\n",
    "    def __len__(self):\n",
    "        return len(self.word2id)\n",
    "\n",
    "    def get_vocab(self):\n",
    "        return self.word2id\n",
    "\n",
    "    def get_frequency_dict(self):\n",
    "        return {self.id2word[i] : freq for i, freq in self.frequency.items()}\n",
    "\n",
    "    def save(self, filename: str) -> None:\n",
    "        self.save_obj(\n",
    "            self.__dict__,\n",
    "            filename\n",
    "        )\n",
    "\n",
    "    def load(self, filename: str) -> None:\n",
    "        self.__dict__ = self.load_obj(filename)\n",
    "\n",
    "    def save_obj(\n",
    "        self,\n",
    "        obj:object,\n",
    "        path:str = None\n",
    "    ) -> None:\n",
    "        \"\"\" Saves Python Object as pickle\"\"\"\n",
    "        with open(path + '.pkl', 'wb') as f:\n",
    "            pickle.dump(obj, f, pickle.HIGHEST_PROTOCOL)\n",
    "\n",
    "\n",
    "    def load_obj(\n",
    "        self,\n",
    "        path:str = None\n",
    "    ) -> object:\n",
    "        \"\"\" Loads Python Object from pickle\"\"\"\n",
    "        with open(path + '.pkl', 'rb') as f:\n",
    "            return pickle.load(f)\n",
    "\n",
    "\n",
    "vocab = Vocabulary(\n",
    "    df_vocab.to_dict()\n",
    ")\n",
    "\n",
    "\n",
    "vocab_freq_removed = Vocabulary(\n",
    "    df_vocab_greq_removed.to_dict()\n",
    ")\n",
    "\n",
    "\n"
   ]
  },
  {
   "cell_type": "code",
   "execution_count": 37,
   "metadata": {},
   "outputs": [],
   "source": [
    "vocab.save('data/vocabulary')\n",
    "vocab_freq_removed.save('data/vocabulary_freq_removed')"
   ]
  },
  {
   "cell_type": "code",
   "execution_count": 31,
   "metadata": {},
   "outputs": [],
   "source": [
    "df.to_parquet('data/final_training_data.parquet')"
   ]
  }
 ],
 "metadata": {
  "interpreter": {
   "hash": "9550b2e4702a604127c6792d41a2c1591bb93c1211ce8ff3e331d10f2ba3f332"
  },
  "kernelspec": {
   "display_name": "Python 3.9.2 64-bit ('base': conda)",
   "language": "python",
   "name": "python3"
  },
  "language_info": {
   "codemirror_mode": {
    "name": "ipython",
    "version": 3
   },
   "file_extension": ".py",
   "mimetype": "text/x-python",
   "name": "python",
   "nbconvert_exporter": "python",
   "pygments_lexer": "ipython3",
   "version": "3.9.2"
  },
  "orig_nbformat": 4
 },
 "nbformat": 4,
 "nbformat_minor": 2
}
